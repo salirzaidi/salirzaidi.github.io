{
 "cells": [
  {
   "cell_type": "markdown",
   "metadata": {},
   "source": [
    "# Notebook Outlining the Usage of KNN for LoS/NLoS classification"
   ]
  },
  {
   "cell_type": "markdown",
   "metadata": {},
   "source": [
    "This Notebook provides a brief introduction to usage of KNN base LoS/NLoS classification. We employ the UWB Localisation Dataset openly available at: http://log-a-tec.eu/uwb-ds.html\n",
    "You should download and extract the dataset in a subfolder name data\n",
    "You also need to remove first version line from all csv files"
   ]
  },
  {
   "cell_type": "markdown",
   "metadata": {},
   "source": [
    "We utilise two parameters, i.e. RSS of First Path and Channel Impulse response amplitude of first path."
   ]
  },
  {
   "cell_type": "code",
   "execution_count": 65,
   "metadata": {},
   "outputs": [
    {
     "data": {
      "text/html": [
       "<div>\n",
       "<style scoped>\n",
       "    .dataframe tbody tr th:only-of-type {\n",
       "        vertical-align: middle;\n",
       "    }\n",
       "\n",
       "    .dataframe tbody tr th {\n",
       "        vertical-align: top;\n",
       "    }\n",
       "\n",
       "    .dataframe thead th {\n",
       "        text-align: right;\n",
       "    }\n",
       "</style>\n",
       "<table border=\"1\" class=\"dataframe\">\n",
       "  <thead>\n",
       "    <tr style=\"text-align: right;\">\n",
       "      <th></th>\n",
       "      <th>NLOS</th>\n",
       "      <th>RSS_FP</th>\n",
       "      <th>FP_POINT1</th>\n",
       "    </tr>\n",
       "  </thead>\n",
       "  <tbody>\n",
       "    <tr>\n",
       "      <td>0</td>\n",
       "      <td>LOS</td>\n",
       "      <td>-78.194451</td>\n",
       "      <td>-80.535661</td>\n",
       "    </tr>\n",
       "    <tr>\n",
       "      <td>1</td>\n",
       "      <td>LOS</td>\n",
       "      <td>-78.338668</td>\n",
       "      <td>-80.627503</td>\n",
       "    </tr>\n",
       "    <tr>\n",
       "      <td>2</td>\n",
       "      <td>LOS</td>\n",
       "      <td>-78.216480</td>\n",
       "      <td>-81.031538</td>\n",
       "    </tr>\n",
       "    <tr>\n",
       "      <td>3</td>\n",
       "      <td>LOS</td>\n",
       "      <td>-78.240909</td>\n",
       "      <td>-81.179942</td>\n",
       "    </tr>\n",
       "    <tr>\n",
       "      <td>4</td>\n",
       "      <td>LOS</td>\n",
       "      <td>-78.345567</td>\n",
       "      <td>-81.243439</td>\n",
       "    </tr>\n",
       "    <tr>\n",
       "      <td>...</td>\n",
       "      <td>...</td>\n",
       "      <td>...</td>\n",
       "      <td>...</td>\n",
       "    </tr>\n",
       "    <tr>\n",
       "      <td>1483</td>\n",
       "      <td>NLOS</td>\n",
       "      <td>-82.590764</td>\n",
       "      <td>-86.272480</td>\n",
       "    </tr>\n",
       "    <tr>\n",
       "      <td>1484</td>\n",
       "      <td>NLOS</td>\n",
       "      <td>-81.783098</td>\n",
       "      <td>-85.618811</td>\n",
       "    </tr>\n",
       "    <tr>\n",
       "      <td>1485</td>\n",
       "      <td>NLOS</td>\n",
       "      <td>-81.978536</td>\n",
       "      <td>-86.146448</td>\n",
       "    </tr>\n",
       "    <tr>\n",
       "      <td>1486</td>\n",
       "      <td>NLOS</td>\n",
       "      <td>-82.571613</td>\n",
       "      <td>-86.140362</td>\n",
       "    </tr>\n",
       "    <tr>\n",
       "      <td>1487</td>\n",
       "      <td>NLOS</td>\n",
       "      <td>-81.873701</td>\n",
       "      <td>-85.752665</td>\n",
       "    </tr>\n",
       "  </tbody>\n",
       "</table>\n",
       "<p>1488 rows × 3 columns</p>\n",
       "</div>"
      ],
      "text/plain": [
       "      NLOS     RSS_FP  FP_POINT1\n",
       "0      LOS -78.194451 -80.535661\n",
       "1      LOS -78.338668 -80.627503\n",
       "2      LOS -78.216480 -81.031538\n",
       "3      LOS -78.240909 -81.179942\n",
       "4      LOS -78.345567 -81.243439\n",
       "...    ...        ...        ...\n",
       "1483  NLOS -82.590764 -86.272480\n",
       "1484  NLOS -81.783098 -85.618811\n",
       "1485  NLOS -81.978536 -86.146448\n",
       "1486  NLOS -82.571613 -86.140362\n",
       "1487  NLOS -81.873701 -85.752665\n",
       "\n",
       "[1488 rows x 3 columns]"
      ]
     },
     "metadata": {},
     "output_type": "display_data"
    }
   ],
   "source": [
    "import numpy as np\n",
    "import pandas as pd\n",
    "import matplotlib.pyplot as plt\n",
    "import glob\n",
    "from IPython.display import display, HTML\n",
    "\n",
    "\n",
    "path = r'data/office/measurements/1.07_9.37_1.2/'                     # use your path\n",
    "all_files = glob.glob(path+\"*.csv\")     # advisable to use os.path.join as this makes concatenation OS independent\n",
    "fields =['NLOS','FP_POINT1','RSS_FP']\n",
    "df_from_each_file = (pd.read_csv(f,skipinitialspace=True, usecols=fields) for f in all_files)\n",
    "df   = pd.concat(df_from_each_file, ignore_index=True)\n",
    "display(df)"
   ]
  },
  {
   "cell_type": "markdown",
   "metadata": {},
   "source": [
    "Filter the LoS/NLoS data for visualisation"
   ]
  },
  {
   "cell_type": "code",
   "execution_count": 66,
   "metadata": {},
   "outputs": [
    {
     "data": {
      "text/html": [
       "<div>\n",
       "<style scoped>\n",
       "    .dataframe tbody tr th:only-of-type {\n",
       "        vertical-align: middle;\n",
       "    }\n",
       "\n",
       "    .dataframe tbody tr th {\n",
       "        vertical-align: top;\n",
       "    }\n",
       "\n",
       "    .dataframe thead th {\n",
       "        text-align: right;\n",
       "    }\n",
       "</style>\n",
       "<table border=\"1\" class=\"dataframe\">\n",
       "  <thead>\n",
       "    <tr style=\"text-align: right;\">\n",
       "      <th></th>\n",
       "      <th>NLOS</th>\n",
       "      <th>RSS_FP</th>\n",
       "      <th>FP_POINT1</th>\n",
       "    </tr>\n",
       "  </thead>\n",
       "  <tbody>\n",
       "    <tr>\n",
       "      <td>31</td>\n",
       "      <td>NLOS</td>\n",
       "      <td>-79.317305</td>\n",
       "      <td>-84.496205</td>\n",
       "    </tr>\n",
       "    <tr>\n",
       "      <td>32</td>\n",
       "      <td>NLOS</td>\n",
       "      <td>-79.392652</td>\n",
       "      <td>-85.282834</td>\n",
       "    </tr>\n",
       "    <tr>\n",
       "      <td>33</td>\n",
       "      <td>NLOS</td>\n",
       "      <td>-79.266979</td>\n",
       "      <td>-84.491246</td>\n",
       "    </tr>\n",
       "    <tr>\n",
       "      <td>34</td>\n",
       "      <td>NLOS</td>\n",
       "      <td>-79.533815</td>\n",
       "      <td>-84.698210</td>\n",
       "    </tr>\n",
       "    <tr>\n",
       "      <td>35</td>\n",
       "      <td>NLOS</td>\n",
       "      <td>-79.811188</td>\n",
       "      <td>-85.720904</td>\n",
       "    </tr>\n",
       "  </tbody>\n",
       "</table>\n",
       "</div>"
      ],
      "text/plain": [
       "    NLOS     RSS_FP  FP_POINT1\n",
       "31  NLOS -79.317305 -84.496205\n",
       "32  NLOS -79.392652 -85.282834\n",
       "33  NLOS -79.266979 -84.491246\n",
       "34  NLOS -79.533815 -84.698210\n",
       "35  NLOS -79.811188 -85.720904"
      ]
     },
     "execution_count": 66,
     "metadata": {},
     "output_type": "execute_result"
    }
   ],
   "source": [
    "NLoSFilter = df[df['NLOS'] == 'NLOS'];\n",
    "LoSFilter = df[df['NLOS'] == 'LOS'];\n",
    "NLoSFilter.head()"
   ]
  },
  {
   "cell_type": "code",
   "execution_count": 67,
   "metadata": {},
   "outputs": [
    {
     "data": {
      "text/html": [
       "<div>\n",
       "<style scoped>\n",
       "    .dataframe tbody tr th:only-of-type {\n",
       "        vertical-align: middle;\n",
       "    }\n",
       "\n",
       "    .dataframe tbody tr th {\n",
       "        vertical-align: top;\n",
       "    }\n",
       "\n",
       "    .dataframe thead th {\n",
       "        text-align: right;\n",
       "    }\n",
       "</style>\n",
       "<table border=\"1\" class=\"dataframe\">\n",
       "  <thead>\n",
       "    <tr style=\"text-align: right;\">\n",
       "      <th></th>\n",
       "      <th>NLOS</th>\n",
       "      <th>RSS_FP</th>\n",
       "      <th>FP_POINT1</th>\n",
       "    </tr>\n",
       "  </thead>\n",
       "  <tbody>\n",
       "    <tr>\n",
       "      <td>0</td>\n",
       "      <td>LOS</td>\n",
       "      <td>-78.194451</td>\n",
       "      <td>-80.535661</td>\n",
       "    </tr>\n",
       "    <tr>\n",
       "      <td>1</td>\n",
       "      <td>LOS</td>\n",
       "      <td>-78.338668</td>\n",
       "      <td>-80.627503</td>\n",
       "    </tr>\n",
       "    <tr>\n",
       "      <td>2</td>\n",
       "      <td>LOS</td>\n",
       "      <td>-78.216480</td>\n",
       "      <td>-81.031538</td>\n",
       "    </tr>\n",
       "    <tr>\n",
       "      <td>3</td>\n",
       "      <td>LOS</td>\n",
       "      <td>-78.240909</td>\n",
       "      <td>-81.179942</td>\n",
       "    </tr>\n",
       "    <tr>\n",
       "      <td>4</td>\n",
       "      <td>LOS</td>\n",
       "      <td>-78.345567</td>\n",
       "      <td>-81.243439</td>\n",
       "    </tr>\n",
       "  </tbody>\n",
       "</table>\n",
       "</div>"
      ],
      "text/plain": [
       "  NLOS     RSS_FP  FP_POINT1\n",
       "0  LOS -78.194451 -80.535661\n",
       "1  LOS -78.338668 -80.627503\n",
       "2  LOS -78.216480 -81.031538\n",
       "3  LOS -78.240909 -81.179942\n",
       "4  LOS -78.345567 -81.243439"
      ]
     },
     "execution_count": 67,
     "metadata": {},
     "output_type": "execute_result"
    }
   ],
   "source": [
    "LoSFilter.head()"
   ]
  },
  {
   "cell_type": "markdown",
   "metadata": {},
   "source": [
    "Visualisation of LoS/NLoS clusters"
   ]
  },
  {
   "cell_type": "code",
   "execution_count": 69,
   "metadata": {},
   "outputs": [
    {
     "data": {
      "image/png": "[encoded data removed]",
      "text/plain": [
       "<Figure size 432x288 with 1 Axes>"
      ]
     },
     "metadata": {
      "needs_background": "light"
     },
     "output_type": "display_data"
    }
   ],
   "source": [
    "plt.scatter(NLoSFilter['RSS_FP'],NLoSFilter['FP_POINT1'],c='red')\n",
    "plt.scatter(LoSFilter['RSS_FP'],LoSFilter['FP_POINT1'],c='blue')\n",
    "plt.xlabel('RSS_FP')\n",
    "plt.ylabel('FP_POINT1')\n",
    "plt.show()"
   ]
  },
  {
   "cell_type": "code",
   "execution_count": 81,
   "metadata": {},
   "outputs": [
    {
     "data": {
      "text/html": [
       "<div>\n",
       "<style scoped>\n",
       "    .dataframe tbody tr th:only-of-type {\n",
       "        vertical-align: middle;\n",
       "    }\n",
       "\n",
       "    .dataframe tbody tr th {\n",
       "        vertical-align: top;\n",
       "    }\n",
       "\n",
       "    .dataframe thead th {\n",
       "        text-align: right;\n",
       "    }\n",
       "</style>\n",
       "<table border=\"1\" class=\"dataframe\">\n",
       "  <thead>\n",
       "    <tr style=\"text-align: right;\">\n",
       "      <th></th>\n",
       "      <th>RSS_FP</th>\n",
       "      <th>FP_POINT1</th>\n",
       "    </tr>\n",
       "  </thead>\n",
       "  <tbody>\n",
       "    <tr>\n",
       "      <td>0</td>\n",
       "      <td>-78.194451</td>\n",
       "      <td>-80.535661</td>\n",
       "    </tr>\n",
       "    <tr>\n",
       "      <td>1</td>\n",
       "      <td>-78.338668</td>\n",
       "      <td>-80.627503</td>\n",
       "    </tr>\n",
       "    <tr>\n",
       "      <td>2</td>\n",
       "      <td>-78.216480</td>\n",
       "      <td>-81.031538</td>\n",
       "    </tr>\n",
       "    <tr>\n",
       "      <td>3</td>\n",
       "      <td>-78.240909</td>\n",
       "      <td>-81.179942</td>\n",
       "    </tr>\n",
       "    <tr>\n",
       "      <td>4</td>\n",
       "      <td>-78.345567</td>\n",
       "      <td>-81.243439</td>\n",
       "    </tr>\n",
       "    <tr>\n",
       "      <td>...</td>\n",
       "      <td>...</td>\n",
       "      <td>...</td>\n",
       "    </tr>\n",
       "    <tr>\n",
       "      <td>1483</td>\n",
       "      <td>-82.590764</td>\n",
       "      <td>-86.272480</td>\n",
       "    </tr>\n",
       "    <tr>\n",
       "      <td>1484</td>\n",
       "      <td>-81.783098</td>\n",
       "      <td>-85.618811</td>\n",
       "    </tr>\n",
       "    <tr>\n",
       "      <td>1485</td>\n",
       "      <td>-81.978536</td>\n",
       "      <td>-86.146448</td>\n",
       "    </tr>\n",
       "    <tr>\n",
       "      <td>1486</td>\n",
       "      <td>-82.571613</td>\n",
       "      <td>-86.140362</td>\n",
       "    </tr>\n",
       "    <tr>\n",
       "      <td>1487</td>\n",
       "      <td>-81.873701</td>\n",
       "      <td>-85.752665</td>\n",
       "    </tr>\n",
       "  </tbody>\n",
       "</table>\n",
       "<p>1488 rows × 2 columns</p>\n",
       "</div>"
      ],
      "text/plain": [
       "         RSS_FP  FP_POINT1\n",
       "0    -78.194451 -80.535661\n",
       "1    -78.338668 -80.627503\n",
       "2    -78.216480 -81.031538\n",
       "3    -78.240909 -81.179942\n",
       "4    -78.345567 -81.243439\n",
       "...         ...        ...\n",
       "1483 -82.590764 -86.272480\n",
       "1484 -81.783098 -85.618811\n",
       "1485 -81.978536 -86.146448\n",
       "1486 -82.571613 -86.140362\n",
       "1487 -81.873701 -85.752665\n",
       "\n",
       "[1488 rows x 2 columns]"
      ]
     },
     "execution_count": 81,
     "metadata": {},
     "output_type": "execute_result"
    }
   ],
   "source": [
    "clabel = df['NLOS']\n",
    "X = df[['RSS_FP','FP_POINT1']]\n",
    "X"
   ]
  },
  {
   "cell_type": "markdown",
   "metadata": {},
   "source": [
    "Code for Knn similar to Scikit learn blog and stack abuse:https://stackabuse.com/k-nearest-neighbors-algorithm-in-python-and-scikit-learn/"
   ]
  },
  {
   "cell_type": "code",
   "execution_count": 82,
   "metadata": {},
   "outputs": [],
   "source": [
    "from sklearn.model_selection import train_test_split\n",
    "X_train, X_test, y_train, y_test = train_test_split(X,clabel, test_size=0.20)"
   ]
  },
  {
   "cell_type": "code",
   "execution_count": 83,
   "metadata": {},
   "outputs": [],
   "source": [
    "from sklearn.preprocessing import StandardScaler\n",
    "scaler = StandardScaler()\n",
    "scaler.fit(X_train)\n",
    "\n",
    "X_train = scaler.transform(X_train)\n",
    "X_test = scaler.transform(X_test)"
   ]
  },
  {
   "cell_type": "code",
   "execution_count": 84,
   "metadata": {},
   "outputs": [
    {
     "data": {
      "text/plain": [
       "KNeighborsClassifier(algorithm='auto', leaf_size=30, metric='minkowski',\n",
       "                     metric_params=None, n_jobs=None, n_neighbors=5, p=2,\n",
       "                     weights='uniform')"
      ]
     },
     "execution_count": 84,
     "metadata": {},
     "output_type": "execute_result"
    }
   ],
   "source": [
    "from sklearn.neighbors import KNeighborsClassifier\n",
    "classifier = KNeighborsClassifier(n_neighbors=5)\n",
    "classifier.fit(X_train, y_train)"
   ]
  },
  {
   "cell_type": "code",
   "execution_count": 96,
   "metadata": {},
   "outputs": [
    {
     "data": {
      "text/plain": [
       "<matplotlib.collections.PathCollection at 0x2386c9b1f88>"
      ]
     },
     "execution_count": 96,
     "metadata": {},
     "output_type": "execute_result"
    },
    {
     "data": {
      "image/png": "[encoded data removed]",
      "text/plain": [
       "<Figure size 432x288 with 1 Axes>"
      ]
     },
     "metadata": {
      "needs_background": "light"
     },
     "output_type": "display_data"
    }
   ],
   "source": [
    "plt.scatter(X_train[:,0],X_train[:,1])"
   ]
  },
  {
   "cell_type": "code",
   "execution_count": 101,
   "metadata": {},
   "outputs": [
    {
     "data": {
      "text/plain": [
       "1209     True\n",
       "987      True\n",
       "1048    False\n",
       "211      True\n",
       "1182     True\n",
       "        ...  \n",
       "349      True\n",
       "1478     True\n",
       "132      True\n",
       "22       True\n",
       "728      True\n",
       "Name: NLOS, Length: 298, dtype: bool"
      ]
     },
     "metadata": {},
     "output_type": "display_data"
    }
   ],
   "source": [
    "y_pred = classifier.predict(X_test)\n",
    "display(y_test==y_pred)"
   ]
  },
  {
   "cell_type": "code",
   "execution_count": 102,
   "metadata": {},
   "outputs": [
    {
     "name": "stdout",
     "output_type": "stream",
     "text": [
      "[[ 55  16]\n",
      " [ 20 207]]\n",
      "              precision    recall  f1-score   support\n",
      "\n",
      "         LOS       0.73      0.77      0.75        71\n",
      "        NLOS       0.93      0.91      0.92       227\n",
      "\n",
      "    accuracy                           0.88       298\n",
      "   macro avg       0.83      0.84      0.84       298\n",
      "weighted avg       0.88      0.88      0.88       298\n",
      "\n"
     ]
    }
   ],
   "source": [
    "from sklearn.metrics import classification_report, confusion_matrix\n",
    "print(confusion_matrix(y_test, y_pred))\n",
    "print(classification_report(y_test, y_pred))"
   ]
  },
  {
   "cell_type": "code",
   "execution_count": null,
   "metadata": {},
   "outputs": [],
   "source": []
  }
 ],
 "metadata": {
  "kernelspec": {
   "display_name": "Python 3",
   "language": "python",
   "name": "python3"
  },
  "language_info": {
   "codemirror_mode": {
    "name": "ipython",
    "version": 3
   },
   "file_extension": ".py",
   "mimetype": "text/x-python",
   "name": "python",
   "nbconvert_exporter": "python",
   "pygments_lexer": "ipython3",
   "version": "3.7.4"
  }
 },
 "nbformat": 4,
 "nbformat_minor": 2
}
